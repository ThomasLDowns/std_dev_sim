{
 "cells": [
  {
   "cell_type": "markdown",
   "metadata": {},
   "source": [
    "Inspired by the following website: http://mathcentral.uregina.ca/QQ/database/QQ.09.99/freeman2.html"
   ]
  },
  {
   "cell_type": "markdown",
   "metadata": {},
   "source": [
    "Monetcarlo simulation designed to show the value of using (n-1) for calculating the standard deviation of a sample, rather than n."
   ]
  },
  {
   "cell_type": "markdown",
   "metadata": {},
   "source": [
    "Assuming a population filled with 1's and 5's, with 5 having a 1/4 chance of being selected and 1 having a 3/4 chance of being selected."
   ]
  },
  {
   "cell_type": "code",
   "execution_count": 1,
   "metadata": {},
   "outputs": [
    {
     "data": {
      "text/plain": [
       "2.0"
      ]
     },
     "execution_count": 1,
     "metadata": {},
     "output_type": "execute_result"
    }
   ],
   "source": [
    "freq_1 = 3/4\n",
    "freq_5 = 1/4\n",
    "\n",
    "# mean of population values\n",
    "mean = 1*(freq_1) + 5*(freq_5)\n",
    "mean"
   ]
  },
  {
   "cell_type": "code",
   "execution_count": 2,
   "metadata": {},
   "outputs": [
    {
     "data": {
      "text/plain": [
       "3.0"
      ]
     },
     "execution_count": 2,
     "metadata": {},
     "output_type": "execute_result"
    }
   ],
   "source": [
    "# variance of population values\n",
    "var = pow(1 - mean, 2) * freq_1 + pow(5 - mean, 2) * freq_5\n",
    "var"
   ]
  },
  {
   "cell_type": "code",
   "execution_count": 3,
   "metadata": {},
   "outputs": [],
   "source": [
    "from random import randint\n",
    "import pandas as pd\n",
    "\n",
    "results = []\n",
    "#results = pd.DataFrame(columns=['samp_1', 'samp_2', 'samp_3', 'mean', 'var_n', 'var_n_sub_1'])"
   ]
  },
  {
   "cell_type": "code",
   "execution_count": 4,
   "metadata": {},
   "outputs": [],
   "source": [
    "for i in range(1, 1001):\n",
    "    results.append(list(map(lambda x: 1 if x < 4 else 5, [randint(1,4), randint(1,4), randint(1,4)])))\n",
    "    \n",
    "results = pd.DataFrame(data=results, columns=['samp_1', 'samp_2', 'samp_3'])"
   ]
  },
  {
   "cell_type": "code",
   "execution_count": 5,
   "metadata": {},
   "outputs": [],
   "source": [
    "def calc_var(ser):\n",
    "    return sum([pow(x - ser[3], 2) for x in ser[0:3]]) / 3\n",
    "    \n",
    "def calc_var_sub_1(ser):\n",
    "    return sum([pow(x - ser[3], 2) for x in ser[0:3]]) / 2"
   ]
  },
  {
   "cell_type": "code",
   "execution_count": 6,
   "metadata": {},
   "outputs": [],
   "source": [
    "results['samp_mean'] = results.mean(axis=1)\n",
    "results['var_n'] = results[['samp_1', 'samp_2', 'samp_3', 'samp_mean']].apply(calc_var, axis=1)\n",
    "results['var_n_sub_1'] = results[['samp_1', 'samp_2', 'samp_3', 'samp_mean']].apply(calc_var_sub_1, axis=1)"
   ]
  },
  {
   "cell_type": "code",
   "execution_count": 7,
   "metadata": {},
   "outputs": [
    {
     "data": {
      "text/html": [
       "<div>\n",
       "<style scoped>\n",
       "    .dataframe tbody tr th:only-of-type {\n",
       "        vertical-align: middle;\n",
       "    }\n",
       "\n",
       "    .dataframe tbody tr th {\n",
       "        vertical-align: top;\n",
       "    }\n",
       "\n",
       "    .dataframe thead th {\n",
       "        text-align: right;\n",
       "    }\n",
       "</style>\n",
       "<table border=\"1\" class=\"dataframe\">\n",
       "  <thead>\n",
       "    <tr style=\"text-align: right;\">\n",
       "      <th></th>\n",
       "      <th>samp_1</th>\n",
       "      <th>samp_2</th>\n",
       "      <th>samp_3</th>\n",
       "      <th>samp_mean</th>\n",
       "      <th>var_n</th>\n",
       "      <th>var_n_sub_1</th>\n",
       "    </tr>\n",
       "  </thead>\n",
       "  <tbody>\n",
       "    <tr>\n",
       "      <th>count</th>\n",
       "      <td>1000.000</td>\n",
       "      <td>1000.000</td>\n",
       "      <td>1000.000</td>\n",
       "      <td>1000.000000</td>\n",
       "      <td>1000.000000</td>\n",
       "      <td>1000.000</td>\n",
       "    </tr>\n",
       "    <tr>\n",
       "      <th>mean</th>\n",
       "      <td>2.072</td>\n",
       "      <td>2.012</td>\n",
       "      <td>2.052</td>\n",
       "      <td>2.045333</td>\n",
       "      <td>2.058667</td>\n",
       "      <td>3.088</td>\n",
       "    </tr>\n",
       "  </tbody>\n",
       "</table>\n",
       "</div>"
      ],
      "text/plain": [
       "         samp_1    samp_2    samp_3    samp_mean        var_n  var_n_sub_1\n",
       "count  1000.000  1000.000  1000.000  1000.000000  1000.000000     1000.000\n",
       "mean      2.072     2.012     2.052     2.045333     2.058667        3.088"
      ]
     },
     "execution_count": 7,
     "metadata": {},
     "output_type": "execute_result"
    }
   ],
   "source": [
    "results.describe()[0:2]"
   ]
  },
  {
   "cell_type": "markdown",
   "metadata": {},
   "source": [
    "As shown above, the var with n-1 actually got a lot closer to predicting the population variance (3) than did the var using n!"
   ]
  }
 ],
 "metadata": {
  "kernelspec": {
   "display_name": "Python 3",
   "language": "python",
   "name": "python3"
  },
  "language_info": {
   "codemirror_mode": {
    "name": "ipython",
    "version": 3
   },
   "file_extension": ".py",
   "mimetype": "text/x-python",
   "name": "python",
   "nbconvert_exporter": "python",
   "pygments_lexer": "ipython3",
   "version": "3.6.7"
  }
 },
 "nbformat": 4,
 "nbformat_minor": 2
}
